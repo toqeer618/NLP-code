{
 "cells": [
  {
   "cell_type": "code",
   "execution_count": 2,
   "metadata": {},
   "outputs": [
    {
     "name": "stdout",
     "output_type": "stream",
     "text": [
      "290\n",
      "Vacabulary before stemming is:   225\n"
     ]
    }
   ],
   "source": [
    "import re\n",
    "words=[]\n",
    "with open('textFile.txt') as f:\n",
    "    lines = f.read()\n",
    "words=lines.split()\n",
    "print(len(words))\n",
    "Vocab=set(words)\n",
    "print(\"Vacabulary before stemming is:  \",len(Vocab))"
   ]
  },
  {
   "cell_type": "code",
   "execution_count": null,
   "metadata": {},
   "outputs": [],
   "source": []
  }
 ],
 "metadata": {
  "kernelspec": {
   "display_name": "Python 3",
   "language": "python",
   "name": "python3"
  },
  "language_info": {
   "codemirror_mode": {
    "name": "ipython",
    "version": 3
   },
   "file_extension": ".py",
   "mimetype": "text/x-python",
   "name": "python",
   "nbconvert_exporter": "python",
   "pygments_lexer": "ipython3",
   "version": "3.6.4"
  }
 },
 "nbformat": 4,
 "nbformat_minor": 2
}
